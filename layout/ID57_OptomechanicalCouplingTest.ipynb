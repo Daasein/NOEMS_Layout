{
 "cells": [
  {
   "cell_type": "markdown",
   "id": "18353aff",
   "metadata": {},
   "source": [
    "This layout is created 07/22/2025, aiming to test optomechanical coupling. Grating Couplers are used for coupling laser to devices.\n",
    "This layout contains:\n",
    "1. Waveguide test patterns: different coupler parameters and waveguide length.\n",
    "2. Test pattern from Sauer, V. T. K., Diao, Z., Freeman, M. R. & Hiebert, W. K. Optical racetrack resonator transduction of nanomechanical cantilevers. Nanotechnology 25, 055202 (2014).\n",
    "3. resonators with different parameter of doubly clamped beam."
   ]
  },
  {
   "cell_type": "code",
   "execution_count": null,
   "id": "8c4d1747",
   "metadata": {},
   "outputs": [],
   "source": [
    "import gdsfactory as gf\n",
    "from blocks import resonator_with_beam, cross_section_with_sleeves, ring_resonator, cantilever_beam, my_coupler\n",
    "from functools import partial\n",
    "total_width = 10\n",
    "@gf.cell\n",
    "def device_with_io(device_spec, coupler_spec, cross_section, pitch, lateral_offset=0):\n",
    "    c = gf.Component()\n",
    "    device = c << device_spec()\n",
    "    coupler_left = c << coupler_spec()\n",
    "    coupler_right = c << coupler_spec()\n",
    "    coupler_left.dmirror_x()\n",
    "    coupler_left.dmovex(-pitch/2)\n",
    "    coupler_right.dmovex(pitch/2)\n",
    "    device.movey(lateral_offset)\n",
    "    route_left = gf.routing.route_single(c, coupler_left.ports[\"o1\"], device.ports[\"o1\"],cross_section=cross_section)\n",
    "    route_right = gf.routing.route_single(c, coupler_right.ports[\"o1\"], device.ports[\"o2\"],cross_section=cross_section)\n",
    "    return c   \n",
    "cs = cross_section_with_sleeves(core_width=0.43, total_width=total_width, radius=50)\n",
    "cs_resonator = cross_section_with_sleeves(core_width=0.43, total_width=total_width, radius=1)\n",
    "coupler_spec = partial(gf.components.grating_coupler_elliptical, wavelength=1.55,nclad=1,fiber_angle=10, n_periods=60)\n",
    "gc_spec = partial(my_coupler,coupler=coupler_spec)"
   ]
  },
  {
   "cell_type": "code",
   "execution_count": 19,
   "id": "4eeb0fd5",
   "metadata": {},
   "outputs": [],
   "source": [
    "@gf.cell\n",
    "def device_beam_with_resonator(beam_length=10, beam_width=0.13, beam_gap=0.1,\n",
    "                              resonator_lengthx=5, resonator_radius=10, resoantor_gap=0.1):\n",
    "    resonator_spec = partial(\n",
    "        ring_resonator,\n",
    "        radius=resonator_radius,\n",
    "        length_y=0,\n",
    "        length_x=resonator_lengthx,\n",
    "        gap=resoantor_gap,\n",
    "        cross_section=cs_resonator,\n",
    "        total_width=total_width,\n",
    "        bend=\"bend_circular\",\n",
    "        x_span = 50\n",
    "    )\n",
    "    cantilever_spec = partial(cantilever_beam, length=beam_length, width=beam_width)\n",
    "\n",
    "    resonator_with_beam_spec = partial(resonator_with_beam, resonator_spec=resonator_spec, cantilever_spec=cantilever_spec, gap=beam_gap)\n",
    "\n",
    "    c = device_with_io(resonator_with_beam_spec, gc_spec, cross_section=cs, pitch=300)\n",
    "    return c\n"
   ]
  },
  {
   "cell_type": "code",
   "execution_count": 22,
   "id": "8645e12b",
   "metadata": {},
   "outputs": [
    {
     "name": "stderr",
     "output_type": "stream",
     "text": [
      "c:\\Users\\weixi\\anaconda3\\envs\\layout\\Lib\\site-packages\\gdsfactory\\components\\couplers\\coupler90.py:42: UserWarning: {'radius': 5.5} ignored for cross_section 'xs_f245cf25'\n",
      "  x = gf.get_cross_section(cross_section, radius=radius)\n"
     ]
    }
   ],
   "source": [
    "\n",
    "c = device_beam_with_resonator(beam_length=3,resonator_radius=5.5)\n",
    "c.show()"
   ]
  },
  {
   "cell_type": "code",
   "execution_count": 7,
   "id": "50130e6b",
   "metadata": {},
   "outputs": [],
   "source": [
    "from blocks import grating_coupler_test_block\n",
    "grating_coupler_test_block(gc_spec=gc_spec, cross_section=cs).show()"
   ]
  }
 ],
 "metadata": {
  "kernelspec": {
   "display_name": "layout",
   "language": "python",
   "name": "python3"
  },
  "language_info": {
   "codemirror_mode": {
    "name": "ipython",
    "version": 3
   },
   "file_extension": ".py",
   "mimetype": "text/x-python",
   "name": "python",
   "nbconvert_exporter": "python",
   "pygments_lexer": "ipython3",
   "version": "3.12.11"
  }
 },
 "nbformat": 4,
 "nbformat_minor": 5
}
