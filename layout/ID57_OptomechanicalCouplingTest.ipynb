{
 "cells": [
  {
   "cell_type": "markdown",
   "id": "18353aff",
   "metadata": {},
   "source": [
    "This layout is created 07/22/2025, aiming to test optomechanical coupling. Grating Couplers are used for coupling laser to devices.\n",
    "This layout contains:\n",
    "1. Waveguide test patterns: different coupler parameters and waveguide length.\n",
    "2. Test pattern from Sauer, V. T. K., Diao, Z., Freeman, M. R. & Hiebert, W. K. Optical racetrack resonator transduction of nanomechanical cantilevers. Nanotechnology 25, 055202 (2014).\n",
    "3. resonators with different parameter of doubly clamped beam."
   ]
  },
  {
   "cell_type": "code",
   "execution_count": 1,
   "id": "8c4d1747",
   "metadata": {},
   "outputs": [
    {
     "name": "stdout",
     "output_type": "stream",
     "text": [
      "\u001b[32m2025-07-23 23:48:25.047\u001b[0m | \u001b[1mINFO    \u001b[0m | \u001b[36mkfactory.kcell\u001b[0m:\u001b[36mshow\u001b[0m:\u001b[36m3954\u001b[0m - \u001b[1mklive v0.3.3: Reloaded file 'c:\\Users\\weixi\\Documents\\Python Scripts\\NOEMS_Layout\\build\\gds\\beams_cantilever_beam.oas'\u001b[0m\n",
      "\u001b[32m2025-07-23 23:48:25.200\u001b[0m | \u001b[1mINFO    \u001b[0m | \u001b[36mkfactory.kcell\u001b[0m:\u001b[36mshow\u001b[0m:\u001b[36m3954\u001b[0m - \u001b[1mklive v0.3.3: Reloaded file 'c:\\Users\\weixi\\Documents\\Python Scripts\\NOEMS_Layout\\build\\gds\\842210480.oas'\u001b[0m\n",
      "\u001b[32m2025-07-23 23:51:13.707\u001b[0m | \u001b[33m\u001b[1mWARNING \u001b[0m | \u001b[36mkfactory.routing.optical\u001b[0m:\u001b[36mplace90\u001b[0m:\u001b[36m1413\u001b[0m - \u001b[33m\u001b[1mplace90 is deprecated, please use kfactory.routing.optical.place_manhattan instead. place90 will be removed in kfactory 2.0.\u001b[0m\n",
      "\u001b[32m2025-07-23 23:51:13.717\u001b[0m | \u001b[33m\u001b[1mWARNING \u001b[0m | \u001b[36mkfactory.routing.optical\u001b[0m:\u001b[36mplace90\u001b[0m:\u001b[36m1413\u001b[0m - \u001b[33m\u001b[1mplace90 is deprecated, please use kfactory.routing.optical.place_manhattan instead. place90 will be removed in kfactory 2.0.\u001b[0m\n",
      "\u001b[32m2025-07-23 23:51:13.916\u001b[0m | \u001b[1mINFO    \u001b[0m | \u001b[36mkfactory.kcell\u001b[0m:\u001b[36mshow\u001b[0m:\u001b[36m3948\u001b[0m - \u001b[1mklive v0.3.3: Opened file 'c:\\Users\\weixi\\Documents\\Python Scripts\\NOEMS_Layout\\build\\gds\\1949073499.oas'\u001b[0m\n"
     ]
    }
   ],
   "source": [
    "import gdsfactory as gf\n",
    "from blocks import resonator_with_beam, cross_section_with_sleeves, ring_resonator, cantilever_beam, my_coupler, waveguide_inv_extrude,tmp_merge_deep_etch_mask\n",
    "from functools import partial\n",
    "total_width = 10\n",
    "@gf.cell\n",
    "def device_with_io(device_spec, coupler_spec, cross_section, pitch, lateral_offset=0):\n",
    "    c = gf.Component()\n",
    "    device = c << device_spec()\n",
    "    coupler_left = c << coupler_spec()\n",
    "    coupler_right = c << coupler_spec()\n",
    "    coupler_left.dmirror_x()\n",
    "    coupler_left.dmovex(-pitch/2)\n",
    "    coupler_right.dmovex(pitch/2)\n",
    "    \n",
    "    \n",
    "    ports_distance = abs(device.ports[\"o1\"].x - device.ports[\"o2\"].x)\n",
    "    \n",
    "    # center the o1 and o2 ports of the couplers\n",
    "    center_x = (device.ports[\"o1\"].x + device.ports[\"o2\"].x) / 2\n",
    "    center_y = (device.ports[\"o1\"].y + device.ports[\"o2\"].y) / 2\n",
    "    device.move((center_x, center_y),(0, 0))\n",
    "    \n",
    "    device.movey(lateral_offset)\n",
    "    \n",
    "    radius = cross_section.radius\n",
    "    device.ports[\"o1\"]\n",
    "    steps_left = [\n",
    "        {\"x\":-radius-ports_distance/2, \"y\":0},\n",
    "        {\"x\":-radius-ports_distance/2, \"y\":lateral_offset},\n",
    "    ]\n",
    "    steps_right = [\n",
    "        {\"x\":radius+ports_distance/2, \"y\":0},\n",
    "        {\"x\":radius+ports_distance/2, \"y\":lateral_offset},\n",
    "    ]\n",
    "    \n",
    "    route_left = gf.routing.route_single(c, coupler_left.ports[\"o1\"], device.ports[\"o1\"],cross_section=cross_section,steps=steps_left if lateral_offset != 0 else None)\n",
    "    route_right = gf.routing.route_single(c, coupler_right.ports[\"o1\"], device.ports[\"o2\"],cross_section=cross_section,steps=steps_right if lateral_offset != 0 else None)\n",
    "    return c   \n",
    "cs = cross_section_with_sleeves(core_width=0.43, total_width=total_width, radius=20)\n",
    "cs_resonator = cross_section_with_sleeves(core_width=0.43, total_width=total_width, radius=1)\n",
    "coupler_spec = partial(gf.components.grating_coupler_elliptical, wavelength=1.55,nclad=1,fiber_angle=10, n_periods=60)\n",
    "gc_spec = partial(my_coupler,coupler=coupler_spec)\n",
    "\n",
    "wg_spec = partial(waveguide_inv_extrude, width=0.43, length=50, total_width=total_width, sleeve_layer=\"DEEP_ETCH\")\n"
   ]
  },
  {
   "cell_type": "code",
   "execution_count": 2,
   "id": "4eeb0fd5",
   "metadata": {},
   "outputs": [
    {
     "name": "stderr",
     "output_type": "stream",
     "text": [
      "c:\\Users\\weixi\\anaconda3\\envs\\layout\\Lib\\site-packages\\gdsfactory\\components\\couplers\\coupler90.py:42: UserWarning: {'radius': 10} ignored for cross_section 'xs_f245cf25'\n",
      "  x = gf.get_cross_section(cross_section, radius=radius)\n"
     ]
    }
   ],
   "source": [
    "\n",
    "@gf.cell\n",
    "def device_cantilever_beam_with_resonator(beam_length=10, beam_width=0.13, beam_gap=0.1,\n",
    "                              resonator_lengthx=5, resonator_radius=10, resoantor_gap=0.1):\n",
    "    resonator_spec = partial(\n",
    "        ring_resonator,\n",
    "        radius=resonator_radius,\n",
    "        length_y=0,\n",
    "        length_x=resonator_lengthx,\n",
    "        gap=resoantor_gap,\n",
    "        cross_section=cs_resonator,\n",
    "        total_width=total_width,\n",
    "        bend=\"bend_circular\",\n",
    "        x_span = 10\n",
    "    )\n",
    "    cantilever_spec = partial(cantilever_beam, length=beam_length, width=beam_width)\n",
    "\n",
    "    resonator_with_beam_spec = partial(resonator_with_beam, resonator_spec=resonator_spec, beam_spec=cantilever_spec, gap=beam_gap)\n",
    "\n",
    "    c = device_with_io(resonator_with_beam_spec, gc_spec, cross_section=cs, pitch=300).copy()\n",
    "    c.flatten()\n",
    "    return c\n",
    "c = device_cantilever_beam_with_resonator(beam_length=15,resonator_radius=10,beam_gap=0.2).copy()\n",
    "tmp_merge_deep_etch_mask(c)\n",
    "c.show()\n"
   ]
  },
  {
   "cell_type": "code",
   "execution_count": 3,
   "id": "51989c22",
   "metadata": {},
   "outputs": [
    {
     "name": "stderr",
     "output_type": "stream",
     "text": [
      "c:\\Users\\weixi\\anaconda3\\envs\\layout\\Lib\\site-packages\\gdsfactory\\components\\couplers\\coupler90.py:42: UserWarning: {'radius': 5} ignored for cross_section 'xs_f245cf25'\n",
      "  x = gf.get_cross_section(cross_section, radius=radius)\n",
      "c:\\Users\\weixi\\anaconda3\\envs\\layout\\Lib\\site-packages\\kfactory\\decorators.py:383: UserWarning: Port type structural not in ['optical', 'electrical', 'placement', 'vertical_te', 'vertical_tm', 'vertical_dual', 'electrical_rf', 'pad', 'pad_rf', 'bump', 'edge_coupler']. Please add it to the port_types list in the config gf.CONF.port_types.\n",
      "  cell = f(**params)  # type: ignore[call-arg]\n"
     ]
    }
   ],
   "source": [
    "from blocks import spring_pair, merge_deep_etch_mask, doubly_clamped_beam_with_spring, doubly_clamped_beam, tmp_merge_deep_etch_mask\n",
    "@gf.cell\n",
    "def device_ccbeam_with_resonator(beam_length=10, beam_width=0.13, beam_gap=0.1,\n",
    "                              resonator_lengthx=5, resonator_radius=10, resoantor_gap=0.1):\n",
    "    resonator_spec = partial(\n",
    "        ring_resonator,\n",
    "        radius=resonator_radius,\n",
    "        length_y=0,\n",
    "        length_x=resonator_lengthx,\n",
    "        gap=resoantor_gap,\n",
    "        cross_section=cs_resonator,\n",
    "        total_width=total_width,\n",
    "        bend=\"bend_circular\",\n",
    "        x_span = 0\n",
    "    )\n",
    "\n",
    "    spring_spec = partial(spring_pair, mask_offset=2)\n",
    "    beam_spec = partial(doubly_clamped_beam, length=beam_length, width=beam_width, mask_offset=2)\n",
    "    \n",
    "    ccbeam_spec = partial(doubly_clamped_beam_with_spring,beam_spec=beam_spec, spring_spec=spring_spec)\n",
    "    \n",
    "    resonator_with_beam_spec = partial(resonator_with_beam, resonator_spec=resonator_spec, beam_spec=ccbeam_spec, gap=beam_gap)\n",
    "    c = device_with_io(resonator_with_beam_spec, gc_spec, cross_section=cs, pitch=200,lateral_offset=100).copy()\n",
    "    c.flatten()\n",
    "    merge_deep_etch_mask(c)\n",
    "    return c\n",
    "c = device_ccbeam_with_resonator(beam_length=100,resonator_radius=5,beam_gap=0.1).copy()\n",
    "tmp_merge_deep_etch_mask(c)\n",
    "c.show()\n"
   ]
  },
  {
   "cell_type": "code",
   "execution_count": 6,
   "id": "50130e6b",
   "metadata": {},
   "outputs": [],
   "source": [
    "from blocks import grating_coupler_test_block\n",
    "grating_coupler_test_block(gc_spec=gc_spec, cross_section=cs).show()"
   ]
  },
  {
   "cell_type": "code",
   "execution_count": 7,
   "id": "fd7e130f",
   "metadata": {},
   "outputs": [],
   "source": [
    "resonator_spec = partial(\n",
    "    ring_resonator,\n",
    "    radius=10,\n",
    "    length_y=0,\n",
    "    length_x=10,\n",
    "    gap=0.2,\n",
    "    cross_section=cs_resonator,\n",
    "    total_width=total_width,\n",
    "    bend=\"bend_circular\",\n",
    "    x_span = 0\n",
    ")\n",
    "c = resonator_spec()\n",
    "c.show()"
   ]
  },
  {
   "cell_type": "code",
   "execution_count": 7,
   "id": "2a9339dc",
   "metadata": {},
   "outputs": [],
   "source": [
    "import gdsfactory as gf\n",
    "from functools import partial\n",
    "from blocks import merge_deep_etch_mask\n",
    "resonator_spec =  partial(\n",
    "        ring_resonator,\n",
    "        radius=10,\n",
    "        length_y=0,\n",
    "        length_x=5,\n",
    "        gap=0.3,\n",
    "        cross_section=cs_resonator,\n",
    "        total_width=total_width,\n",
    "        bend=\"bend_circular\",\n",
    "        x_span = 0\n",
    "    )\n",
    "c = device_with_io(resonator_spec, gc_spec, cross_section=cs, pitch=200,lateral_offset=100).copy()\n",
    "c.flatten()\n",
    "merge_deep_etch_mask(c)\n",
    "c.show()"
   ]
  },
  {
   "cell_type": "code",
   "execution_count": null,
   "id": "5982303e",
   "metadata": {},
   "outputs": [],
   "source": [
    "from blocks import die_with_alignment_marks\n",
    "def main():\n",
    "    c = gf.Component('Main')\n",
    "    die = die_with_alignment_marks(10000)\n",
    "    die\n",
    "die = die_with_alignment_marks(10000)\n",
    "die.show()"
   ]
  }
 ],
 "metadata": {
  "kernelspec": {
   "display_name": "layout",
   "language": "python",
   "name": "python3"
  },
  "language_info": {
   "codemirror_mode": {
    "name": "ipython",
    "version": 3
   },
   "file_extension": ".py",
   "mimetype": "text/x-python",
   "name": "python",
   "nbconvert_exporter": "python",
   "pygments_lexer": "ipython3",
   "version": "3.12.11"
  }
 },
 "nbformat": 4,
 "nbformat_minor": 5
}
